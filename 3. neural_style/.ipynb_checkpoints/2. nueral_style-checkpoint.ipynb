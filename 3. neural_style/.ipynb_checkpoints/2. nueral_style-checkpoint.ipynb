{
 "cells": [
  {
   "cell_type": "code",
   "execution_count": 1,
   "metadata": {
    "collapsed": true
   },
   "outputs": [],
   "source": [
    "from mxnet import image, nd, autograd\n",
    "from mxnet.gluon import nn\n",
    "from mxnet.gluon.model_zoo import vision as models\n",
    "from time import time\n",
    "import matplotlib as mpl\n",
    "import matplotlib.pyplot as plt\n",
    "\n",
    "%matplotlib inline\n",
    "mpl.rcParams['figure.dpi']= 150\n",
    "\n",
    "ctx = mxnet.gpu()"
   ]
  },
  {
   "cell_type": "code",
   "execution_count": null,
   "metadata": {
    "collapsed": true
   },
   "outputs": [],
   "source": [
    "def preprocess(img, image_shape):\n",
    "    img = image.imresize(img, *image_shape)\n",
    "    img = (img.astype('float32')/255 - rgb_mean) / rgb_std\n",
    "    return img.transpose((2,0,1)).expand_dims(axis=0)\n",
    "\n",
    "def postprocess(img):\n",
    "    img = img[0].as_in_context(rgb_std.context)\n",
    "    return (img.transpose((1,2,0))*rgb_std + rgb_mean).clip(0,1)\n",
    "\n",
    "def extract_features(x, content_layers, style_layers):\n",
    "    contents = []\n",
    "    styles = []\n",
    "    for i in range(len(net)):\n",
    "        x = net[i](x)\n",
    "        if i in style_layers:\n",
    "            styles.append(x)\n",
    "        if i in content_layers:\n",
    "            contents.append(x)\n",
    "    return contents, styles\n",
    "\n",
    "def get_net(pretrained_net, content_layers, style_layers):\n",
    "    net = nn.Sequential()\n",
    "    for i in range(max(content_layers+style_layers)+1):\n",
    "        net.add(pretrained_net.features[i])\n",
    "    return net\n",
    "\n",
    "def content_loss(yhat, y):\n",
    "    return (yhat-y).square().mean()\n",
    "\n",
    "def gram(x):\n",
    "    c = x.shape[1]\n",
    "    n = x.size / x.shape[1]\n",
    "    y = x.reshape((c, int(n)))\n",
    "    return nd.dot(y, y.T) / n\n",
    "\n",
    "def style_loss(yhat, gram_y):\n",
    "    return (gram(yhat) - gram_y).square().mean()\n",
    "\n",
    "def tv_loss(yhat):\n",
    "    return 0.5*((yhat[:,:,1:,:] - yhat[:,:,:-1,:]).abs().mean()+(yhat[:,:,:,1:] - yhat[:,:,:,:-1]).abs().mean())\n",
    "\n",
    "def sum_loss(loss, preds, truths, weights):\n",
    "    return nd.add_n(*[w*loss(yhat, y) for w, yhat, y in zip(weights, preds, truths)])\n",
    "\n",
    "def get_contents(image_shape):\n",
    "    content_x = preprocess(content_img, image_shape).copyto(ctx)\n",
    "    content_y, _ = extract_features(content_x, content_layers, style_layers)\n",
    "    return content_x, content_y\n",
    "\n",
    "def get_styles(image_shape):\n",
    "    style_x = preprocess(style_img, image_shape).copyto(ctx)\n",
    "    _, style_y = extract_features(style_x, content_layers, style_layers)\n",
    "    style_y = [gram(y) for y in style_y]\n",
    "    return style_x, style_y"
   ]
  },
  {
   "cell_type": "code",
   "execution_count": null,
   "metadata": {
    "collapsed": true
   },
   "outputs": [],
   "source": [
    "style_img = image.imread('style1.jpg')\n",
    "content_img = image.imread('content.jpg')\n",
    "\n",
    "plt.imshow(style_img.asnumpy())\n",
    "plt.show()\n",
    "plt.imshow(content_img.asnumpy())\n",
    "plt.show()"
   ]
  },
  {
   "cell_type": "code",
   "execution_count": null,
   "metadata": {
    "collapsed": true
   },
   "outputs": [],
   "source": [
    "pretrained_net = models.vgg19(pretrained=True)\n",
    "style_layers = [0,5,10,19,28]\n",
    "content_layers = [25]\n",
    "net = get_net(pretrained_net, content_layers, style_layers)\n",
    "\n",
    "rgb_mean = nd.array([0.485, 0.456, 0.406])\n",
    "rgb_std = nd.array([0.229, 0.224, 0.225])\n",
    "\n",
    "channels = [net[l].weight.shape[0] for l in style_layers]\n",
    "style_weights = [1e4/n**2 for n in channels]\n",
    "content_weights = [1]\n",
    "tv_weight = 10"
   ]
  },
  {
   "cell_type": "code",
   "execution_count": null,
   "metadata": {
    "collapsed": true
   },
   "outputs": [],
   "source": [
    "image_shape = (1200,800)\n",
    "\n",
    "net.collect_params().reset_ctx(ctx)\n",
    "\n",
    "content_x, content_y = get_contents(image_shape)\n",
    "style_x, style_y = get_styles(image_shape)\n",
    "\n",
    "x = content_x.copyto(ctx)\n",
    "x.attach_grad()"
   ]
  },
  {
   "cell_type": "code",
   "execution_count": null,
   "metadata": {
    "collapsed": true
   },
   "outputs": [],
   "source": [
    "lr = 0.1\n",
    "epochs = 500\n",
    "lr_decay_epoch = 100\n",
    "\n",
    "start = time()\n",
    "for i in range(epochs):\n",
    "    with autograd.record():\n",
    "        content_py, style_py = extract_features(x, content_layers, style_layers)\n",
    "        content_l  = sum_loss(content_loss, content_py, content_y, content_weights)\n",
    "        style_l = sum_loss(style_loss, style_py, style_y, style_weights)\n",
    "        tv_l = tv_weight * tv_loss(x)\n",
    "        loss = style_l + content_l + tv_l\n",
    "    loss.backward()\n",
    "    x.grad[:] /= x.grad.abs().mean()+1e-8\n",
    "    x[:] -= lr * x.grad\n",
    "    nd.waitall()\n",
    "    if i and i % 20 == 0:\n",
    "        print('E %3d, content %.2f, style %.2f, TV %.2f, T %.1f' % (\n",
    "            i,content_l.asscalar(),style_l.asscalar(), tv_l.asscalar(), time()-start))\n",
    "        start = time()\n",
    "    if i and i % lr_decay_epoch == 0:\n",
    "        lr = lr * 0.1\n",
    "        print('change lr to ', lr)"
   ]
  },
  {
   "cell_type": "code",
   "execution_count": null,
   "metadata": {
    "collapsed": true
   },
   "outputs": [],
   "source": [
    "out = postprocess(x).asnumpy()\n",
    "plt.imshow(out)\n",
    "plt.show()\n",
    "plt.imsave('out.png', out)"
   ]
  },
  {
   "cell_type": "code",
   "execution_count": null,
   "metadata": {
    "collapsed": true
   },
   "outputs": [],
   "source": []
  },
  {
   "cell_type": "code",
   "execution_count": null,
   "metadata": {
    "collapsed": true
   },
   "outputs": [],
   "source": []
  }
 ],
 "metadata": {
  "kernelspec": {
   "display_name": "Python 3",
   "language": "python",
   "name": "python3"
  },
  "language_info": {
   "codemirror_mode": {
    "name": "ipython",
    "version": 3
   },
   "file_extension": ".py",
   "mimetype": "text/x-python",
   "name": "python",
   "nbconvert_exporter": "python",
   "pygments_lexer": "ipython3",
   "version": "3.6.2"
  }
 },
 "nbformat": 4,
 "nbformat_minor": 2
}
