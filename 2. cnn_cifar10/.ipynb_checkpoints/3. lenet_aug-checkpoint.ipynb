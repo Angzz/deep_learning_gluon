{
 "cells": [
  {
   "cell_type": "code",
   "execution_count": 1,
   "metadata": {
    "collapsed": true
   },
   "outputs": [],
   "source": [
    "from mxnet import gluon\n",
    "from mxnet.gluon import nn\n",
    "from mxnet import nd\n",
    "from mxnet import autograd\n",
    "import numpy as np\n",
    "import mxnet as mx\n",
    "import pickle as p\n",
    "from mxnet import image\n",
    "from time import time\n",
    "import matplotlib.pyplot as plt\n",
    "ctx = mx.gpu()"
   ]
  },
  {
   "cell_type": "code",
   "execution_count": 2,
   "metadata": {
    "collapsed": true
   },
   "outputs": [],
   "source": [
    "def load_cifar(route = '/home/sinyer/python/data/cifar-10-batches-py', train_num = 50000, test_num = 10000):\n",
    "    def load_batch(filename):\n",
    "        with open(filename, 'rb')as f:\n",
    "            data_dict = p.load(f, encoding='latin1')\n",
    "            X = data_dict['data']\n",
    "            Y = data_dict['labels']\n",
    "            X = X.reshape(10000, 3, 32,32).astype(\"float\")\n",
    "            Y = np.array(Y)\n",
    "            return X, Y\n",
    "    def load_labels(filename):\n",
    "        with open(filename, 'rb') as f:\n",
    "            label_names = p.load(f, encoding='latin1')\n",
    "            names = label_names['label_names']\n",
    "            return names\n",
    "    label_names = load_labels(route + \"/batches.meta\")\n",
    "    x1, y1 = load_batch(route + \"/data_batch_1\")\n",
    "    x2, y2 = load_batch(route + \"/data_batch_2\")\n",
    "    x3, y3 = load_batch(route + \"/data_batch_3\")\n",
    "    x4, y4 = load_batch(route + \"/data_batch_4\")\n",
    "    x5, y5 = load_batch(route + \"/data_batch_5\")\n",
    "    test_pic, test_label = load_batch(route + \"/test_batch\")\n",
    "    train_pic = np.concatenate((x1, x2, x3, x4, x5))\n",
    "    train_label = np.concatenate((y1, y2, y3, y4, y5))\n",
    "    train_pic = train_pic[:train_num].astype('float32')/255\n",
    "    train_label = train_label[:train_num].astype('float32')\n",
    "    test_pic = test_pic[:test_num].astype('float32')/255\n",
    "    test_label = test_label[:test_num].astype('float32')\n",
    "    return train_pic, train_label, test_pic, test_label\n",
    "\n",
    "train_pic, train_label, test_pic, test_label = load_cifar()"
   ]
  },
  {
   "cell_type": "code",
   "execution_count": 3,
   "metadata": {
    "collapsed": true
   },
   "outputs": [],
   "source": [
    "batch_size = 128\n",
    "train_data = gluon.data.DataLoader(gluon.data.ArrayDataset(train_pic, train_label), batch_size, shuffle=True)\n",
    "test_data = gluon.data.DataLoader(gluon.data.ArrayDataset(test_pic, test_label), batch_size, shuffle=False)"
   ]
  },
  {
   "cell_type": "code",
   "execution_count": 4,
   "metadata": {
    "collapsed": true
   },
   "outputs": [],
   "source": [
    "def accuracy(output, label):\n",
    "    return nd.mean(output.argmax(axis=1)==label).asscalar()\n",
    "\n",
    "def evaluate_accuracy(data_iterator, net, ctx):\n",
    "    acc = 0.\n",
    "    for data, label in data_iterator:\n",
    "        data = transform(data, aug_test).as_in_context(ctx)\n",
    "        label = label.as_in_context(ctx)\n",
    "        output = net(data)\n",
    "        acc += accuracy(output, label)\n",
    "    return acc / len(data_iterator)\n",
    "\n",
    "aug_train = image.CreateAugmenter(data_shape=(3, 32, 32), resize=36, \n",
    "                rand_crop=True, rand_resize=True, rand_mirror=True,\n",
    "                mean=np.array([0.4914, 0.4822, 0.4465]), \n",
    "                std=np.array([0.2023, 0.1994, 0.2010]))\n",
    "\n",
    "aug_test = image.CreateAugmenter(data_shape=(3, 32, 32), \n",
    "                mean=np.array([0.4914, 0.4822, 0.4465]), \n",
    "                std=np.array([0.2023, 0.1994, 0.2010]))\n",
    "\n",
    "def apply(img, auglist):\n",
    "    for aug in auglist:\n",
    "        img = aug(img)\n",
    "    return img\n",
    "\n",
    "def transform(data, aug):\n",
    "    data = nd.transpose(data, (0,2,3,1))\n",
    "    data = nd.stack(*[apply(d, aug) for d in data])\n",
    "    data = nd.transpose(data, (0,3,1,2))\n",
    "    return data"
   ]
  },
  {
   "cell_type": "code",
   "execution_count": 5,
   "metadata": {
    "collapsed": true
   },
   "outputs": [],
   "source": [
    "net = gluon.nn.Sequential()\n",
    "with net.name_scope():\n",
    "    net.add(\n",
    "        nn.Conv2D(channels=20, kernel_size=5, activation='relu'),\n",
    "        nn.MaxPool2D(pool_size=2, strides=2),\n",
    "        nn.Conv2D(channels=50, kernel_size=3, activation='relu'),\n",
    "        nn.MaxPool2D(pool_size=2, strides=2),\n",
    "        nn.Flatten(),\n",
    "        nn.Dense(128, activation=\"relu\"),\n",
    "        nn.Dense(10)\n",
    "    )\n",
    "net.initialize(ctx=ctx)\n",
    "loss = gluon.loss.SoftmaxCrossEntropyLoss()\n",
    "trainer = gluon.Trainer(net.collect_params(), 'sgd', {'learning_rate': 0.02, 'momentum': 0.9, 'wd': 5e-4})"
   ]
  },
  {
   "cell_type": "code",
   "execution_count": 6,
   "metadata": {},
   "outputs": [
    {
     "name": "stdout",
     "output_type": "stream",
     "text": [
      "E 0; L 1.867941; Tr_acc 0.306474; Te_acc 0.463805; T 20.166786\n",
      "E 5; L 1.410959; Tr_acc 0.497470; Te_acc 0.600079; T 18.178090\n",
      "E 10; L 1.301992; Tr_acc 0.536357; Te_acc 0.650613; T 19.185024\n",
      "E 15; L 1.245206; Tr_acc 0.560945; Te_acc 0.679786; T 18.010805\n",
      "E 20; L 1.127849; Tr_acc 0.600931; Te_acc 0.726958; T 18.977128\n",
      "E 25; L 1.042192; Tr_acc 0.631474; Te_acc 0.738726; T 18.326002\n",
      "E 30; L 1.024972; Tr_acc 0.640681; Te_acc 0.741199; T 18.545500\n",
      "E 35; L 1.012600; Tr_acc 0.642871; Te_acc 0.746737; T 19.545130\n",
      "E 40; L 0.989812; Tr_acc 0.654751; Te_acc 0.753461; T 20.513065\n",
      "E 45; L 0.974062; Tr_acc 0.658376; Te_acc 0.758208; T 20.281665\n",
      "E 50; L 0.974929; Tr_acc 0.658308; Te_acc 0.754252; T 20.155750\n"
     ]
    },
    {
     "data": {
      "image/png": "[encoded data removed]",
      "text/plain": [
       "<matplotlib.figure.Figure at 0x7f0798397a58>"
      ]
     },
     "metadata": {},
     "output_type": "display_data"
    }
   ],
   "source": [
    "epochs = 51\n",
    "lr_period = 20\n",
    "lr_decay = 0.1\n",
    "\n",
    "a = []\n",
    "b = []\n",
    "for epoch in range(epochs):\n",
    "    if epoch > 0 and epoch % lr_period == 0:\n",
    "        trainer.set_learning_rate(trainer.learning_rate * lr_decay)\n",
    "    train_loss = 0.\n",
    "    train_acc = 0.\n",
    "    batch = 0\n",
    "    start = time()\n",
    "    for data, label in train_data:\n",
    "        data = transform(data, aug_train).as_in_context(ctx)\n",
    "        label = label.as_in_context(ctx)\n",
    "        with autograd.record():\n",
    "            output = net(data)\n",
    "            l = loss(output, label)\n",
    "        l.backward()\n",
    "        trainer.step(data.shape[0])\n",
    "        train_loss += nd.mean(l).asscalar()\n",
    "        train_acc += accuracy(output, label)\n",
    "        batch += 1\n",
    "    a.append(train_acc/batch)\n",
    "    test_acc = evaluate_accuracy(test_data, net, ctx)\n",
    "    b.append(test_acc)\n",
    "    if epoch%5 == 0:\n",
    "        print(\"E %d; L %f; Tr_acc %f; Te_acc %f; T %f\" % (epoch, train_loss / batch, train_acc / batch, test_acc, time() - start))\n",
    "plt.plot(np.arange(0, epochs),a,np.arange(0, epochs),b)\n",
    "plt.ylim(0,1)\n",
    "plt.show()"
   ]
  },
  {
   "cell_type": "code",
   "execution_count": null,
   "metadata": {
    "collapsed": true
   },
   "outputs": [],
   "source": []
  }
 ],
 "metadata": {
  "kernelspec": {
   "display_name": "Python 3",
   "language": "python",
   "name": "python3"
  },
  "language_info": {
   "codemirror_mode": {
    "name": "ipython",
    "version": 3
   },
   "file_extension": ".py",
   "mimetype": "text/x-python",
   "name": "python",
   "nbconvert_exporter": "python",
   "pygments_lexer": "ipython3",
   "version": "3.6.2"
  }
 },
 "nbformat": 4,
 "nbformat_minor": 2
}
