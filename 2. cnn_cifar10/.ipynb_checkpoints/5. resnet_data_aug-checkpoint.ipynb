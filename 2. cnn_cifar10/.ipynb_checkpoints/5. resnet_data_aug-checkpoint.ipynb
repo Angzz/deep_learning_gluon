{
 "cells": [
  {
   "cell_type": "code",
   "execution_count": 1,
   "metadata": {
    "collapsed": true
   },
   "outputs": [],
   "source": [
    "from mxnet import init\n",
    "from mxnet import gluon\n",
    "from mxnet.gluon import nn\n",
    "from mxnet import nd\n",
    "from mxnet import autograd\n",
    "from mxnet import image\n",
    "import numpy as np\n",
    "import pickle as p\n",
    "import mxnet as mx\n",
    "from time import time\n",
    "import matplotlib.pyplot as plt\n",
    "ctx = mx.gpu()"
   ]
  },
  {
   "cell_type": "code",
   "execution_count": 2,
   "metadata": {
    "collapsed": true
   },
   "outputs": [],
   "source": [
    "def load_cifar(route = '/home/sinyer/python/data/cifar-10-batches-py', train_num = 50000, test_num = 10000):\n",
    "    def load_batch(filename):\n",
    "        with open(filename, 'rb')as f:\n",
    "            data_dict = p.load(f, encoding='latin1')\n",
    "            X = data_dict['data']\n",
    "            Y = data_dict['labels']\n",
    "            X = X.reshape(10000, 3, 32,32).astype(\"float\")\n",
    "            Y = np.array(Y)\n",
    "            return X, Y\n",
    "    def load_labels(filename):\n",
    "        with open(filename, 'rb') as f:\n",
    "            label_names = p.load(f, encoding='latin1')\n",
    "            names = label_names['label_names']\n",
    "            return names\n",
    "    label_names = load_labels(route + \"/batches.meta\")\n",
    "    x1, y1 = load_batch(route + \"/data_batch_1\")\n",
    "    x2, y2 = load_batch(route + \"/data_batch_2\")\n",
    "    x3, y3 = load_batch(route + \"/data_batch_3\")\n",
    "    x4, y4 = load_batch(route + \"/data_batch_4\")\n",
    "    x5, y5 = load_batch(route + \"/data_batch_5\")\n",
    "    test_pic, test_label = load_batch(route + \"/test_batch\")\n",
    "    train_pic = np.concatenate((x1, x2, x3, x4, x5))\n",
    "    train_label = np.concatenate((y1, y2, y3, y4, y5))\n",
    "    train_pic = train_pic[:train_num].astype('float32')/255\n",
    "    train_label = train_label[:train_num].astype('float32')\n",
    "    test_pic = test_pic[:test_num].astype('float32')/255\n",
    "    test_label = test_label[:test_num].astype('float32')\n",
    "    return train_pic, train_label, test_pic, test_label\n",
    "\n",
    "train_pic, train_label, test_pic, test_label = load_cifar()"
   ]
  },
  {
   "cell_type": "code",
   "execution_count": 3,
   "metadata": {
    "collapsed": true
   },
   "outputs": [],
   "source": [
    "batch_size = 128\n",
    "train_data = gluon.data.DataLoader(gluon.data.ArrayDataset(train_pic, train_label), batch_size, shuffle=True)\n",
    "test_data = gluon.data.DataLoader(gluon.data.ArrayDataset(test_pic, test_label), batch_size, shuffle=False)"
   ]
  },
  {
   "cell_type": "code",
   "execution_count": 4,
   "metadata": {
    "collapsed": true
   },
   "outputs": [],
   "source": [
    "def accuracy(output, label):\n",
    "    return nd.mean(output.argmax(axis=1)==label).asscalar()\n",
    "\n",
    "def evaluate_accuracy(data_iterator, net, ctx):\n",
    "    acc = 0.\n",
    "    for data, label in data_iterator:\n",
    "        data = transform(data, aug_test).as_in_context(ctx)\n",
    "        label = label.as_in_context(ctx)\n",
    "        output = net(data)\n",
    "        acc += accuracy(output, label)\n",
    "    return acc / len(data_iterator)\n",
    "\n",
    "aug_train = image.CreateAugmenter(data_shape=(3, 32, 32), resize=36, \n",
    "                rand_crop=True, rand_resize=True, rand_mirror=True,\n",
    "                mean=np.array([0.4914, 0.4822, 0.4465]), \n",
    "                std=np.array([0.2023, 0.1994, 0.2010]))\n",
    "\n",
    "aug_test = image.CreateAugmenter(data_shape=(3, 32, 32), \n",
    "                mean=np.array([0.4914, 0.4822, 0.4465]), \n",
    "                std=np.array([0.2023, 0.1994, 0.2010]))\n",
    "\n",
    "def apply(img, auglist):\n",
    "    for aug in auglist:\n",
    "        img = aug(img)\n",
    "    return img\n",
    "\n",
    "def transform(data, aug):\n",
    "    data = nd.transpose(data, (0,2,3,1))\n",
    "    data = nd.stack(*[apply(d, aug) for d in data])\n",
    "    data = nd.transpose(data, (0,3,1,2))\n",
    "    return data\n",
    "\n",
    "class Residual(nn.Block):\n",
    "    def __init__(self, channels, same_shape=True, **kwargs):\n",
    "        super(Residual, self).__init__(**kwargs)\n",
    "        self.same_shape = same_shape\n",
    "        with self.name_scope():\n",
    "            strides = 1 if same_shape else 2\n",
    "            self.conv1 = nn.Conv2D(channels, kernel_size=3, padding=1, strides=strides)\n",
    "            self.bn1 = nn.BatchNorm()\n",
    "            self.conv2 = nn.Conv2D(channels, kernel_size=3, padding=1)\n",
    "            self.bn2 = nn.BatchNorm()\n",
    "            if not same_shape:\n",
    "                self.conv3 = nn.Conv2D(channels, kernel_size=1, strides=strides)\n",
    "    def forward(self, x):\n",
    "        out = nd.relu(self.bn1(self.conv1(x)))\n",
    "        out = self.bn2(self.conv2(out))\n",
    "        if not self.same_shape:\n",
    "            x = self.conv3(x)\n",
    "        return nd.relu(out + x)\n",
    "\n",
    "class ResNet(nn.Block):\n",
    "    def __init__(self, num_classes, **kwargs):\n",
    "        super(ResNet, self).__init__(**kwargs)\n",
    "        with self.name_scope(): \n",
    "            b1 = nn.Conv2D(16, kernel_size=3, strides=1, padding=1)\n",
    "            b2 = nn.Sequential()\n",
    "            for _ in range(8):\n",
    "                b2.add(Residual(16))\n",
    "            b3 = nn.Sequential()\n",
    "            b3.add(Residual(32, same_shape=False))\n",
    "            for _ in range(7):\n",
    "                b3.add(Residual(32))\n",
    "            b4 = nn.Sequential()\n",
    "            b4.add(Residual(64, same_shape=False))\n",
    "            for _ in range(7):\n",
    "                b4.add(Residual(64))\n",
    "            b5 = nn.Sequential()\n",
    "            b5.add(nn.AvgPool2D(pool_size=3),nn.Dense(num_classes))\n",
    "            self.net = nn.Sequential()\n",
    "            self.net.add(b1, b2, b3, b4, b5)\n",
    "    def forward(self, x):\n",
    "        out = x\n",
    "        for i, b in enumerate(self.net):\n",
    "            out = b(out)\n",
    "        return out"
   ]
  },
  {
   "cell_type": "code",
   "execution_count": 5,
   "metadata": {
    "collapsed": true
   },
   "outputs": [],
   "source": [
    "net = ResNet(10)\n",
    "net.initialize(ctx=ctx, init=init.Xavier())\n",
    "loss = gluon.loss.SoftmaxCrossEntropyLoss()\n",
    "trainer = gluon.Trainer(net.collect_params(), 'sgd', {'learning_rate': 0.05, 'momentum': 0.9, 'wd': 5e-4})"
   ]
  },
  {
   "cell_type": "code",
   "execution_count": 6,
   "metadata": {},
   "outputs": [
    {
     "name": "stdout",
     "output_type": "stream",
     "text": [
      "E 0; L 2.247680; Tr_acc 0.185106; Te_acc 0.328718; T 66.945946\n",
      "E 5; L 1.375258; Tr_acc 0.508616; Te_acc 0.563786; T 54.609123\n",
      "E 10; L 1.089462; Tr_acc 0.617727; Te_acc 0.638845; T 53.442257\n",
      "E 15; L 0.980113; Tr_acc 0.656182; Te_acc 0.707971; T 54.308879\n",
      "E 20; L 0.915497; Tr_acc 0.680307; Te_acc 0.721321; T 53.592741\n",
      "E 25; L 0.862791; Tr_acc 0.697762; Te_acc 0.763350; T 54.981486\n",
      "E 30; L 0.836606; Tr_acc 0.708252; Te_acc 0.761570; T 53.568023\n",
      "E 35; L 0.816058; Tr_acc 0.717623; Te_acc 0.740309; T 53.323961\n",
      "E 40; L 0.802169; Tr_acc 0.719585; Te_acc 0.748220; T 53.378736\n",
      "E 45; L 0.783724; Tr_acc 0.727733; Te_acc 0.751384; T 53.151230\n",
      "E 50; L 0.778961; Tr_acc 0.728672; Te_acc 0.783525; T 53.388367\n",
      "E 55; L 0.771846; Tr_acc 0.730055; Te_acc 0.778778; T 53.298075\n",
      "E 60; L 0.641546; Tr_acc 0.777873; Te_acc 0.863627; T 53.147434\n",
      "E 65; L 0.521532; Tr_acc 0.818083; Te_acc 0.879846; T 53.429289\n",
      "E 70; L 0.497983; Tr_acc 0.826279; Te_acc 0.882021; T 53.983680\n",
      "E 75; L 0.480204; Tr_acc 0.832289; Te_acc 0.886570; T 53.800907\n",
      "E 80; L 0.451305; Tr_acc 0.842287; Te_acc 0.891317; T 53.555793\n",
      "E 85; L 0.422663; Tr_acc 0.852973; Te_acc 0.895075; T 53.660623\n",
      "E 90; L 0.421956; Tr_acc 0.853265; Te_acc 0.896657; T 52.894904\n",
      "E 95; L 0.406605; Tr_acc 0.857497; Te_acc 0.897943; T 53.147910\n"
     ]
    },
    {
     "data": {
      "image/png": "[encoded data removed]",
      "text/plain": [
       "<matplotlib.figure.Figure at 0x7f9c1b486320>"
      ]
     },
     "metadata": {},
     "output_type": "display_data"
    }
   ],
   "source": [
    "epochs = 100\n",
    "\n",
    "a = []\n",
    "b = []\n",
    "for epoch in range(epochs):\n",
    "    if epoch == 60:\n",
    "        trainer.set_learning_rate(0.005)\n",
    "    if epoch == 80:\n",
    "        trainer.set_learning_rate(0.001)\n",
    "    if epoch == 90:\n",
    "        trainer.set_learning_rate(0.0002)\n",
    "    train_loss = 0.\n",
    "    train_acc = 0.\n",
    "    batch = 0\n",
    "    start = time()\n",
    "    for data, label in train_data:\n",
    "        data = transform(data, aug_train).as_in_context(ctx)\n",
    "        label = label.as_in_context(ctx)\n",
    "        with autograd.record():\n",
    "            output = net(data)\n",
    "            l = loss(output, label)\n",
    "        l.backward()\n",
    "        trainer.step(data.shape[0])\n",
    "        train_loss += nd.mean(l).asscalar()\n",
    "        train_acc += accuracy(output, label)\n",
    "        batch += 1\n",
    "    a.append(train_acc/batch)\n",
    "    test_acc = evaluate_accuracy(test_data, net, ctx)\n",
    "    b.append(test_acc)\n",
    "    if epoch%5 == 0:\n",
    "        print(\"E %d; L %f; Tr_acc %f; Te_acc %f; T %f\" % (epoch, train_loss / batch, train_acc / batch, test_acc, time() - start))\n",
    "plt.plot(np.arange(0, epochs),a,np.arange(0, epochs),b)\n",
    "plt.ylim(0,1)\n",
    "plt.show()"
   ]
  },
  {
   "cell_type": "code",
   "execution_count": null,
   "metadata": {
    "collapsed": true
   },
   "outputs": [],
   "source": []
  }
 ],
 "metadata": {
  "kernelspec": {
   "display_name": "Python 3",
   "language": "python",
   "name": "python3"
  },
  "language_info": {
   "codemirror_mode": {
    "name": "ipython",
    "version": 3
   },
   "file_extension": ".py",
   "mimetype": "text/x-python",
   "name": "python",
   "nbconvert_exporter": "python",
   "pygments_lexer": "ipython3",
   "version": "3.6.2"
  }
 },
 "nbformat": 4,
 "nbformat_minor": 2
}
