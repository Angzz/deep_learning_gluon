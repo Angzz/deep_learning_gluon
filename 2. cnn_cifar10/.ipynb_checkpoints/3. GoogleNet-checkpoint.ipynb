{
 "cells": [
  {
   "cell_type": "code",
   "execution_count": null,
   "metadata": {
    "collapsed": true
   },
   "outputs": [],
   "source": [
    "from mxnet import gluon\n",
    "from mxnet.gluon import nn\n",
    "import mxnet as mx\n",
    "import sys\n",
    "sys.path.append('..')\n",
    "from utils import *\n",
    "ctx = mx.gpu()"
   ]
  },
  {
   "cell_type": "code",
   "execution_count": null,
   "metadata": {
    "collapsed": true
   },
   "outputs": [],
   "source": [
    "batch_size = 256\n",
    "train_data, test_data = load_cifar(50000, 10000, batch_size, route = '/home/sinyer/Python/data')"
   ]
  },
  {
   "cell_type": "code",
   "execution_count": null,
   "metadata": {
    "collapsed": true
   },
   "outputs": [],
   "source": [
    "class Inception(nn.Block):\n",
    "    def __init__(self, n1_1, n2_1, n2_3, n3_1, n3_5, n4_1, **kwargs):\n",
    "        super(Inception, self).__init__(**kwargs)\n",
    "        self.p1_conv_1 = nn.Conv2D(n1_1, kernel_size=1,activation='relu')\n",
    "        self.p2_conv_1 = nn.Conv2D(n2_1, kernel_size=1,activation='relu')\n",
    "        self.p2_conv_3 = nn.Conv2D(n2_3, kernel_size=3, padding=1,activation='relu')\n",
    "        self.p3_conv_1 = nn.Conv2D(n3_1, kernel_size=1,activation='relu')\n",
    "        self.p3_conv_5 = nn.Conv2D(n3_5, kernel_size=5, padding=2,activation='relu')\n",
    "        self.p4_pool_3 = nn.MaxPool2D(pool_size=3, padding=1,strides=1)\n",
    "        self.p4_conv_1 = nn.Conv2D(n4_1, kernel_size=1,activation='relu')\n",
    "\n",
    "    def forward(self, x):\n",
    "        p1 = self.p1_conv_1(x)\n",
    "        p2 = self.p2_conv_3(self.p2_conv_1(x))\n",
    "        p3 = self.p3_conv_5(self.p3_conv_1(x))\n",
    "        p4 = self.p4_conv_1(self.p4_pool_3(x))\n",
    "        return nd.concat(p1, p2, p3, p4, dim=1)\n",
    "\n",
    "class GoogLeNet(nn.Block):\n",
    "    def __init__(self, num_classes, **kwargs):\n",
    "        super(GoogLeNet, self).__init__(**kwargs)\n",
    "        with self.name_scope():\n",
    "            b1 = nn.Sequential()\n",
    "            b1.add(nn.Conv2D(64, kernel_size=7, strides=2,padding=3, activation='relu'),\n",
    "                   nn.MaxPool2D(pool_size=3, strides=2))\n",
    "            b2 = nn.Sequential()\n",
    "            b2.add(nn.Conv2D(64, kernel_size=1),nn.Conv2D(192, kernel_size=3, padding=1),\n",
    "                   nn.MaxPool2D(pool_size=3, strides=2))\n",
    "            b3 = nn.Sequential()\n",
    "            b3.add(Inception(64, 96, 128, 16,32, 32),\n",
    "                   Inception(128, 128, 192, 32, 96, 64),\n",
    "                   nn.MaxPool2D(pool_size=3, strides=2))\n",
    "            b4 = nn.Sequential()\n",
    "            b4.add(\n",
    "                Inception(192, 96, 208, 16, 48, 64),\n",
    "                Inception(160, 112, 224, 24, 64, 64),\n",
    "                Inception(128, 128, 256, 24, 64, 64),\n",
    "                Inception(112, 144, 288, 32, 64, 64),\n",
    "                Inception(256, 160, 320, 32, 128, 128),\n",
    "                nn.MaxPool2D(pool_size=3, strides=2)\n",
    "            )\n",
    "            b5 = nn.Sequential()\n",
    "            b5.add(\n",
    "                Inception(256, 160, 320, 32, 128, 128),\n",
    "                Inception(384, 192, 384, 48, 128, 128),\n",
    "                nn.AvgPool2D(pool_size=2)\n",
    "            )\n",
    "            b6 = nn.Sequential()\n",
    "            b6.add(\n",
    "                nn.Flatten(),\n",
    "                nn.Dense(num_classes)\n",
    "            )\n",
    "            self.net = nn.Sequential()\n",
    "            self.net.add(b1, b2, b3, b4, b5, b6)\n",
    "\n",
    "    def forward(self, x):\n",
    "        out = x\n",
    "        for i, b in enumerate(self.net):\n",
    "            out = b(out)\n",
    "        return out"
   ]
  },
  {
   "cell_type": "code",
   "execution_count": null,
   "metadata": {
    "collapsed": true
   },
   "outputs": [],
   "source": [
    "net = GoogLeNet(10)\n",
    "net.initialize(ctx=ctx, init=init.Xavier())\n",
    "loss = gluon.loss.SoftmaxCrossEntropyLoss()\n",
    "trainer = gluon.Trainer(net.collect_params(),'sgd', {'learning_rate': 0.01})"
   ]
  },
  {
   "cell_type": "code",
   "execution_count": null,
   "metadata": {
    "collapsed": true
   },
   "outputs": [],
   "source": [
    "train(ctx, train_data, test_data, net, loss, trainer, epochs=100, n=10, print_batches=None)"
   ]
  }
 ],
 "metadata": {
  "kernelspec": {
   "display_name": "Python 3",
   "language": "python",
   "name": "python3"
  },
  "language_info": {
   "codemirror_mode": {
    "name": "ipython",
    "version": 3
   },
   "file_extension": ".py",
   "mimetype": "text/x-python",
   "name": "python",
   "nbconvert_exporter": "python",
   "pygments_lexer": "ipython3",
   "version": "3.6.2"
  }
 },
 "nbformat": 4,
 "nbformat_minor": 2
}
