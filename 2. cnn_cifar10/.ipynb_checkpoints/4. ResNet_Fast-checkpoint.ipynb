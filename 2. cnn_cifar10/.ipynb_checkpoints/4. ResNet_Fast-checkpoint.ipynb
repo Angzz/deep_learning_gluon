{
 "cells": [
  {
   "cell_type": "code",
   "execution_count": 1,
   "metadata": {
    "collapsed": true
   },
   "outputs": [],
   "source": [
    "from mxnet import init\n",
    "from mxnet import gluon\n",
    "from mxnet.gluon import nn\n",
    "import mxnet as mx\n",
    "import sys\n",
    "sys.path.append('..')\n",
    "from utils import *\n",
    "ctx = mx.gpu()"
   ]
  },
  {
   "cell_type": "code",
   "execution_count": 2,
   "metadata": {
    "collapsed": true
   },
   "outputs": [],
   "source": [
    "batch_size = 256\n",
    "train_data, test_data = load_cifar(50000, 10000, batch_size, route = '/home/sinyer/Python/data')"
   ]
  },
  {
   "cell_type": "code",
   "execution_count": 3,
   "metadata": {
    "collapsed": true
   },
   "outputs": [],
   "source": [
    "class Residual(nn.Block):\n",
    "    def __init__(self, channels, same_shape=True, **kwargs):\n",
    "        super(Residual, self).__init__(**kwargs)\n",
    "        self.same_shape = same_shape\n",
    "        with self.name_scope():\n",
    "            strides = 1 if same_shape else 2\n",
    "            self.conv1 = nn.Conv2D(channels, kernel_size=3, padding=1, strides=strides)\n",
    "            self.bn1 = nn.BatchNorm()\n",
    "            self.conv2 = nn.Conv2D(channels, kernel_size=3, padding=1)\n",
    "            self.bn2 = nn.BatchNorm()\n",
    "            if not same_shape:\n",
    "                self.conv3 = nn.Conv2D(channels, kernel_size=1, strides=strides)\n",
    "    def forward(self, x):\n",
    "        out = nd.relu(self.bn1(self.conv1(x)))\n",
    "        out = self.bn2(self.conv2(out))\n",
    "        if not self.same_shape:\n",
    "            x = self.conv3(x)\n",
    "        return nd.relu(out + x)\n",
    "\n",
    "class ResNet(nn.Block):\n",
    "    def __init__(self, num_classes, **kwargs):\n",
    "        super(ResNet, self).__init__(**kwargs)\n",
    "        with self.name_scope(): \n",
    "            b1 = nn.Conv2D(16, kernel_size=3, strides=1, padding=1)\n",
    "            b2 = nn.Sequential()\n",
    "            b2.add(Residual(16),Residual(16))\n",
    "            b3 = nn.Sequential()\n",
    "            b3.add(Residual(32, same_shape=False),Residual(32))\n",
    "            b4 = nn.Sequential()\n",
    "            b4.add(nn.AvgPool2D(pool_size=3),nn.Dense(num_classes))\n",
    "            self.net = nn.Sequential()\n",
    "            self.net.add(b1, b2, b3, b4)\n",
    "    def forward(self, x):\n",
    "        out = x\n",
    "        for i, b in enumerate(self.net):\n",
    "            out = b(out)\n",
    "        return out\n",
    "\n",
    "net = ResNet(10)\n",
    "net.initialize(init=init.Xavier(), ctx=ctx)\n",
    "loss = gluon.loss.SoftmaxCrossEntropyLoss()\n",
    "trainer = gluon.Trainer(net.collect_params(), 'sgd', {'learning_rate': 0.05, 'momentum': 0.9})"
   ]
  },
  {
   "cell_type": "code",
   "execution_count": 4,
   "metadata": {},
   "outputs": [
    {
     "name": "stdout",
     "output_type": "stream",
     "text": [
      "Epoch 0, Loss: 1.795772, Train acc 0.377192, Test acc 0.450391, , Time 8.095822\n",
      "Epoch 1, Loss: 1.321580, Train acc 0.525502, Test acc 0.554980, , Time 6.434900\n",
      "Epoch 2, Loss: 1.115199, Train acc 0.607510, Test acc 0.595313, , Time 6.414872\n",
      "Epoch 3, Loss: 0.984597, Train acc 0.654963, Test acc 0.622754, , Time 6.464685\n",
      "Epoch 4, Loss: 0.898887, Train acc 0.686065, Test acc 0.634668, , Time 6.486274\n",
      "Epoch 5, Loss: 0.839157, Train acc 0.706649, Test acc 0.682324, , Time 6.434411\n",
      "Epoch 6, Loss: 0.790974, Train acc 0.722919, Test acc 0.695312, , Time 6.470334\n",
      "Epoch 7, Loss: 0.752721, Train acc 0.737564, Test acc 0.671777, , Time 6.475589\n",
      "Epoch 8, Loss: 0.711591, Train acc 0.751012, Test acc 0.676367, , Time 6.452137\n",
      "Epoch 9, Loss: 0.680597, Train acc 0.762105, Test acc 0.720801, , Time 6.464008\n",
      "Epoch 10, Loss: 0.661112, Train acc 0.767423, Test acc 0.682520, , Time 6.614798\n",
      "Epoch 11, Loss: 0.633420, Train acc 0.779321, Test acc 0.695312, , Time 6.471489\n",
      "Epoch 12, Loss: 0.609999, Train acc 0.786918, Test acc 0.723926, , Time 6.474150\n",
      "Epoch 13, Loss: 0.588856, Train acc 0.794511, Test acc 0.720605, , Time 6.527573\n",
      "Epoch 14, Loss: 0.569009, Train acc 0.802069, Test acc 0.726562, , Time 6.532004\n",
      "Epoch 15, Loss: 0.550391, Train acc 0.808084, Test acc 0.696680, , Time 6.535993\n",
      "Epoch 16, Loss: 0.529341, Train acc 0.815936, Test acc 0.705664, , Time 6.504942\n",
      "Epoch 17, Loss: 0.515211, Train acc 0.820679, Test acc 0.728906, , Time 6.514482\n",
      "Epoch 18, Loss: 0.502694, Train acc 0.823912, Test acc 0.714160, , Time 6.526827\n",
      "Epoch 19, Loss: 0.482172, Train acc 0.831517, Test acc 0.707422, , Time 6.532749\n",
      "Epoch 20, Loss: 0.469832, Train acc 0.835690, Test acc 0.729785, , Time 6.515273\n",
      "Epoch 21, Loss: 0.453057, Train acc 0.839856, Test acc 0.711719, , Time 6.513705\n",
      "Epoch 22, Loss: 0.439361, Train acc 0.844830, Test acc 0.727051, , Time 6.521204\n",
      "Epoch 23, Loss: 0.428392, Train acc 0.848653, Test acc 0.725488, , Time 6.554135\n",
      "Epoch 24, Loss: 0.415345, Train acc 0.854030, Test acc 0.741309, , Time 6.520352\n",
      "Epoch 25, Loss: 0.399408, Train acc 0.860631, Test acc 0.723535, , Time 6.523011\n",
      "Epoch 26, Loss: 0.388718, Train acc 0.863066, Test acc 0.722949, , Time 6.520543\n",
      "Epoch 27, Loss: 0.372459, Train acc 0.868953, Test acc 0.701953, , Time 6.549352\n",
      "Epoch 28, Loss: 0.367310, Train acc 0.869794, Test acc 0.712695, , Time 6.506156\n",
      "Epoch 29, Loss: 0.359898, Train acc 0.871692, Test acc 0.725684, , Time 6.520965\n",
      "Epoch 30, Loss: 0.342317, Train acc 0.879006, Test acc 0.712012, , Time 6.538182\n",
      "Epoch 31, Loss: 0.335336, Train acc 0.880006, Test acc 0.719043, , Time 6.529919\n",
      "Epoch 32, Loss: 0.323013, Train acc 0.884351, Test acc 0.715234, , Time 6.537237\n",
      "Epoch 33, Loss: 0.309905, Train acc 0.889553, Test acc 0.728418, , Time 6.573220\n",
      "Epoch 34, Loss: 0.302567, Train acc 0.891051, Test acc 0.730469, , Time 6.770091\n",
      "Epoch 35, Loss: 0.288607, Train acc 0.896747, Test acc 0.722852, , Time 6.611202\n",
      "Epoch 36, Loss: 0.280739, Train acc 0.899207, Test acc 0.716504, , Time 6.584047\n",
      "Epoch 37, Loss: 0.267653, Train acc 0.903655, Test acc 0.713184, , Time 6.557961\n",
      "Epoch 38, Loss: 0.260585, Train acc 0.906716, Test acc 0.693262, , Time 6.556821\n",
      "Epoch 39, Loss: 0.255045, Train acc 0.909606, Test acc 0.705078, , Time 6.536534\n",
      "Epoch 40, Loss: 0.245964, Train acc 0.911117, Test acc 0.694727, , Time 6.572875\n",
      "Epoch 41, Loss: 0.235710, Train acc 0.914947, Test acc 0.711426, , Time 6.542656\n",
      "Epoch 42, Loss: 0.215034, Train acc 0.923242, Test acc 0.727246, , Time 6.568827\n",
      "Epoch 43, Loss: 0.221692, Train acc 0.920739, Test acc 0.713379, , Time 6.535719\n",
      "Epoch 44, Loss: 0.209065, Train acc 0.925510, Test acc 0.720508, , Time 6.553626\n",
      "Epoch 45, Loss: 0.210668, Train acc 0.924279, Test acc 0.715234, , Time 6.555000\n",
      "Epoch 46, Loss: 0.204557, Train acc 0.925869, Test acc 0.713086, , Time 6.551527\n",
      "Epoch 47, Loss: 0.193301, Train acc 0.930505, Test acc 0.718848, , Time 6.533437\n",
      "Epoch 48, Loss: 0.181959, Train acc 0.935443, Test acc 0.709961, , Time 6.577763\n",
      "Epoch 49, Loss: 0.189190, Train acc 0.931322, Test acc 0.686230, , Time 6.741569\n",
      "Epoch 50, Loss: 0.175020, Train acc 0.938353, Test acc 0.716016, , Time 7.122823\n",
      "Epoch 51, Loss: 0.176345, Train acc 0.935922, Test acc 0.716602, , Time 6.767473\n",
      "Epoch 52, Loss: 0.162541, Train acc 0.941338, Test acc 0.705762, , Time 6.551491\n",
      "Epoch 53, Loss: 0.148925, Train acc 0.947015, Test acc 0.717187, , Time 6.539357\n",
      "Epoch 54, Loss: 0.147782, Train acc 0.946652, Test acc 0.719336, , Time 6.529974\n",
      "Epoch 55, Loss: 0.147348, Train acc 0.946987, Test acc 0.702734, , Time 6.539054\n",
      "Epoch 56, Loss: 0.135996, Train acc 0.950411, Test acc 0.711426, , Time 6.573402\n",
      "Epoch 57, Loss: 0.135673, Train acc 0.951586, Test acc 0.696582, , Time 6.558776\n",
      "Epoch 58, Loss: 0.131574, Train acc 0.952882, Test acc 0.717773, , Time 6.592634\n",
      "Epoch 59, Loss: 0.128262, Train acc 0.953655, Test acc 0.697461, , Time 6.565995\n",
      "Epoch 60, Loss: 0.125563, Train acc 0.954982, Test acc 0.718555, , Time 6.568803\n",
      "Epoch 61, Loss: 0.128389, Train acc 0.953675, Test acc 0.720313, , Time 6.579439\n",
      "Epoch 62, Loss: 0.112237, Train acc 0.960352, Test acc 0.720020, , Time 6.584511\n",
      "Epoch 63, Loss: 0.102110, Train acc 0.963656, Test acc 0.715234, , Time 6.577414\n",
      "Epoch 64, Loss: 0.096425, Train acc 0.966442, Test acc 0.706641, , Time 6.589560\n",
      "Epoch 65, Loss: 0.115472, Train acc 0.957597, Test acc 0.721582, , Time 6.579041\n",
      "Epoch 66, Loss: 0.107932, Train acc 0.961189, Test acc 0.710352, , Time 6.536401\n",
      "Epoch 67, Loss: 0.120163, Train acc 0.955820, Test acc 0.702441, , Time 6.536689\n",
      "Epoch 68, Loss: 0.110166, Train acc 0.959614, Test acc 0.701758, , Time 6.546286\n",
      "Epoch 69, Loss: 0.090114, Train acc 0.968056, Test acc 0.715430, , Time 6.543593\n",
      "Epoch 70, Loss: 0.084764, Train acc 0.968985, Test acc 0.712598, , Time 6.549100\n",
      "Epoch 71, Loss: 0.082657, Train acc 0.970368, Test acc 0.719727, , Time 6.556370\n",
      "Epoch 72, Loss: 0.107017, Train acc 0.959985, Test acc 0.707031, , Time 6.529629\n",
      "Epoch 73, Loss: 0.113392, Train acc 0.958299, Test acc 0.717187, , Time 6.550497\n",
      "Epoch 74, Loss: 0.083749, Train acc 0.970173, Test acc 0.720801, , Time 6.585153\n",
      "Epoch 75, Loss: 0.067633, Train acc 0.977049, Test acc 0.717090, , Time 6.738541\n",
      "Epoch 76, Loss: 0.072550, Train acc 0.974589, Test acc 0.711035, , Time 6.563534\n",
      "Epoch 77, Loss: 0.057541, Train acc 0.980788, Test acc 0.709961, , Time 6.557179\n",
      "Epoch 78, Loss: 0.049702, Train acc 0.984291, Test acc 0.708105, , Time 6.592265\n",
      "Epoch 79, Loss: 0.042203, Train acc 0.987042, Test acc 0.710742, , Time 6.550905\n"
     ]
    }
   ],
   "source": [
    "train(ctx, train_data, test_data, net, loss, trainer, epochs=100, n=10, print_batches=None)"
   ]
  },
  {
   "cell_type": "code",
   "execution_count": null,
   "metadata": {
    "collapsed": true
   },
   "outputs": [],
   "source": []
  }
 ],
 "metadata": {
  "kernelspec": {
   "display_name": "Python 3",
   "language": "python",
   "name": "python3"
  },
  "language_info": {
   "codemirror_mode": {
    "name": "ipython",
    "version": 3
   },
   "file_extension": ".py",
   "mimetype": "text/x-python",
   "name": "python",
   "nbconvert_exporter": "python",
   "pygments_lexer": "ipython3",
   "version": "3.6.2"
  }
 },
 "nbformat": 4,
 "nbformat_minor": 2
}
